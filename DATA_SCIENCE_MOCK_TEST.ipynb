{
 "cells": [
  {
   "cell_type": "markdown",
   "id": "aeba02e1",
   "metadata": {},
   "source": [
    "## Question 17:\n",
    "\n",
    "Write a function that takes a list of numbers as input and returns a new list containing only the even\n",
    "numbers from the input list. Use list comprehension to solve this problem.\n",
    "\n",
    "Example:\n",
    "\n",
    "Input: [1, 2, 3, 4, 5, 6, 7, 8, 9, 10]\n",
    "\n",
    "Output: [2, 4, 6, 8, 10]"
   ]
  },
  {
   "cell_type": "code",
   "execution_count": 1,
   "id": "63cbe30c",
   "metadata": {},
   "outputs": [
    {
     "name": "stdout",
     "output_type": "stream",
     "text": [
      "[2, 4, 6, 8, 10]\n"
     ]
    }
   ],
   "source": [
    "## Answer:\n",
    "## Function definition\n",
    "def get_even_numbers(input_list):\n",
    "    return [num for num in input_list if num % 2 == 0]\n",
    "\n",
    "## Driver code\n",
    "input_list = [1, 2, 3, 4, 5, 6, 7, 8, 9, 10]\n",
    "even_numbers = get_even_numbers(input_list)\n",
    "print(even_numbers)"
   ]
  },
  {
   "cell_type": "markdown",
   "id": "3fbf227f",
   "metadata": {},
   "source": [
    "## Question 18:\n",
    "\n",
    "Implement a decorator function called ‘timer’ that measures the execution time of a function. \n",
    "The ‘timer’ decorator should print the time taken by the decorated function to execute. Use the ‘time’ \n",
    "module in Python to calculate the execution time.\n",
    "\n",
    "Example:\n",
    "\n",
    "import time\n",
    "\n",
    "@timer\n",
    "def my_function():\n",
    "    # Function code goes here\n",
    "    time.sleep(2)\n",
    "\n",
    "my_function()\n",
    "\n",
    "Output:\n",
    "\"Execution time: 2.00123 seconds\""
   ]
  },
  {
   "cell_type": "code",
   "execution_count": 2,
   "id": "ccd0e3d9",
   "metadata": {},
   "outputs": [
    {
     "name": "stdout",
     "output_type": "stream",
     "text": [
      "Execution time: 2.00192 seconds\n"
     ]
    }
   ],
   "source": [
    "## Answer:\n",
    "\n",
    "import time\n",
    "## Function definition\n",
    "def timer(func):\n",
    "    def wrapper(*args, **kwargs):\n",
    "        start_time = time.time()\n",
    "        result = func(*args, **kwargs)\n",
    "        end_time = time.time()\n",
    "        execution_time = end_time - start_time\n",
    "        print(f\"Execution time: {execution_time:.5f} seconds\")\n",
    "        return result\n",
    "    return wrapper\n",
    "\n",
    "## Driver code\n",
    "@timer\n",
    "def my_function():\n",
    "    time.sleep(2)\n",
    "\n",
    "my_function()"
   ]
  },
  {
   "cell_type": "markdown",
   "id": "d89a7847",
   "metadata": {},
   "source": [
    "## Question 19:\n",
    "\n",
    "Write a function called ‘calculate_mean’ that takes a list of numbers as input and \n",
    "returns the mean (average) of the numbers. The function should calculate the mean \n",
    "using the sum of the numbers divided by the total count.\n",
    "\n",
    "Example:\n",
    "\n",
    "def calculate_mean(numbers):\n",
    "    total = sum(numbers)\n",
    "    count = len(numbers)\n",
    "    mean = total / count\n",
    "    return mean\n",
    "\n",
    "data = [10, 15, 20, 25, 30]\n",
    "mean_value = calculate_mean(data)\n",
    "print(\"Mean:\", mean_value)\n",
    "\n",
    "Output:\n",
    "Mean: 20.0"
   ]
  },
  {
   "cell_type": "code",
   "execution_count": 3,
   "id": "e1a8fe6a",
   "metadata": {},
   "outputs": [
    {
     "name": "stdout",
     "output_type": "stream",
     "text": [
      "Mean: 20.0\n"
     ]
    }
   ],
   "source": [
    "## Answer:\n",
    "## Function definition\n",
    "def calculate_mean(numbers):\n",
    "    total = sum(numbers)\n",
    "    count = len(numbers)\n",
    "    mean = total / count\n",
    "    return mean\n",
    "\n",
    "## Driver code\n",
    "data = [10, 15, 20, 25, 30]\n",
    "mean_value = calculate_mean(data)\n",
    "print(\"Mean:\", mean_value)"
   ]
  },
  {
   "cell_type": "markdown",
   "id": "91392916",
   "metadata": {},
   "source": [
    "## Question 20:\n",
    "\n",
    "Write a function called ‘perform_hypothesis_test’ that takes two lists of numbers as input, \n",
    "representing two samples. The function should perform a two-sample t-test and return the p-value. \n",
    "Use the ‘scipy.stats’ module in Python to calculate the t-test and p-value.\n",
    "\n",
    "Example:\n",
    "\n",
    "from scipy import stats\n",
    "\n",
    "def perform_hypothesis_test(sample1, sample2):\n",
    "    t_statistic, p_value = stats.ttest_ind(sample1, sample2)\n",
    "    return p_value\n",
    "\n",
    "sample1 = [5, 10, 15, 20, 25]\n",
    "sample2 = [10, 20, 30, 40, 50]\n",
    "p_value = perform_hypothesis_test(sample1, sample2)\n",
    "print(\"P-value:\", p_value)\n",
    "\n",
    "Output:\n",
    "P-value: 0.1064706396450037"
   ]
  },
  {
   "cell_type": "code",
   "execution_count": 4,
   "id": "88f29805",
   "metadata": {},
   "outputs": [
    {
     "name": "stdout",
     "output_type": "stream",
     "text": [
      "P-value: 0.09434977284243756\n"
     ]
    }
   ],
   "source": [
    "## Answer:\n",
    "\n",
    "from scipy import stats\n",
    "## Function definition\n",
    "def perform_hypothesis_test(sample1, sample2):\n",
    "    t_statistic, p_value = stats.ttest_ind(sample1, sample2)\n",
    "    return p_value\n",
    "\n",
    "## Driver code\n",
    "sample1 = [5, 10, 15, 20, 25]\n",
    "sample2 = [10, 20, 30, 40, 50]\n",
    "p_value = perform_hypothesis_test(sample1, sample2)\n",
    "print(\"P-value:\", p_value)"
   ]
  },
  {
   "cell_type": "code",
   "execution_count": null,
   "id": "8694f834",
   "metadata": {},
   "outputs": [],
   "source": []
  }
 ],
 "metadata": {
  "kernelspec": {
   "display_name": "Python 3 (ipykernel)",
   "language": "python",
   "name": "python3"
  },
  "language_info": {
   "codemirror_mode": {
    "name": "ipython",
    "version": 3
   },
   "file_extension": ".py",
   "mimetype": "text/x-python",
   "name": "python",
   "nbconvert_exporter": "python",
   "pygments_lexer": "ipython3",
   "version": "3.10.9"
  }
 },
 "nbformat": 4,
 "nbformat_minor": 5
}
